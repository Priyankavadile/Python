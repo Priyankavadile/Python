{
 "cells": [
  {
   "cell_type": "code",
   "execution_count": 12,
   "metadata": {},
   "outputs": [],
   "source": [
    "f = open(\"aa.txt\",'w')\n",
    "#f.close()\n",
    "f.write(\"hello\")\n",
    "f.close()"
   ]
  },
  {
   "cell_type": "code",
   "execution_count": 13,
   "metadata": {},
   "outputs": [
    {
     "name": "stdout",
     "output_type": "stream",
     "text": [
      "hello\n"
     ]
    }
   ],
   "source": [
    "f = open(\"aa.txt\",'r')\n",
    "print(f.read(12))\n",
    "f.close()"
   ]
  },
  {
   "cell_type": "code",
   "execution_count": 17,
   "metadata": {},
   "outputs": [
    {
     "name": "stdout",
     "output_type": "stream",
     "text": [
      "hello\n"
     ]
    }
   ],
   "source": [
    "f = open(\"aa.txt\",'r')\n",
    "print(f.readline())\n",
    "f.tell()\n",
    "f.close()"
   ]
  },
  {
   "cell_type": "code",
   "execution_count": 18,
   "metadata": {},
   "outputs": [],
   "source": [
    "import os"
   ]
  },
  {
   "cell_type": "code",
   "execution_count": 20,
   "metadata": {},
   "outputs": [
    {
     "data": {
      "text/plain": [
       "['.anaconda',\n",
       " '.astropy',\n",
       " '.bash_history',\n",
       " '.bash_profile',\n",
       " '.conda',\n",
       " '.condarc',\n",
       " '.eclipse',\n",
       " '.git',\n",
       " '.gitconfig',\n",
       " '.gitignore',\n",
       " '.idea',\n",
       " '.idlerc',\n",
       " '.ipynb_checkpoints',\n",
       " '.ipython',\n",
       " '.jupyter',\n",
       " '.matplotlib',\n",
       " '.p2',\n",
       " '.PyCharm2019.3',\n",
       " '.pylint.d',\n",
       " '.python_history',\n",
       " '.spyder-py3',\n",
       " '.tooling',\n",
       " '.viminfo',\n",
       " '.vscode',\n",
       " 'a.txt',\n",
       " 'aa.txt',\n",
       " 'Again pratise dr.ingle',\n",
       " 'AppData',\n",
       " 'Application Data',\n",
       " 'Assignment 3.ipynb',\n",
       " 'Assignment1.ipynb',\n",
       " 'Assignments 4.ipynb',\n",
       " 'class.ipynb',\n",
       " 'Collection.ipynb',\n",
       " 'config',\n",
       " 'Contacts',\n",
       " 'Cookies',\n",
       " 'Decorators.ipynb',\n",
       " 'description',\n",
       " 'Desktop',\n",
       " 'Documents',\n",
       " 'Downloads',\n",
       " 'eclipse',\n",
       " 'eclipse-workspace',\n",
       " 'Envs',\n",
       " 'Example.py',\n",
       " 'Exception Error.ipynb',\n",
       " 'Favorites',\n",
       " 'fcs.txt',\n",
       " 'File handling and dict.ipynb',\n",
       " 'File Handling.ipynb',\n",
       " 'fsc.txt',\n",
       " 'Function.ipynb',\n",
       " 'Generators.ipynb',\n",
       " 'hackerearth.com',\n",
       " 'hackrank challeges.ipynb',\n",
       " 'hankerearth.com',\n",
       " 'HEAD',\n",
       " 'hello',\n",
       " 'hello.java',\n",
       " 'hooks',\n",
       " 'info',\n",
       " 'inheritance and polymorphism.ipynb',\n",
       " 'Java_Program',\n",
       " 'Links',\n",
       " 'List,Tuple,Dict.ipynb',\n",
       " 'Local Settings',\n",
       " 'Method Overloading poly.ipynb',\n",
       " 'Methods.ipynb',\n",
       " 'moduleOne.py',\n",
       " 'moduleTwo.py',\n",
       " 'Music',\n",
       " 'My Documents',\n",
       " 'myfile.txt',\n",
       " 'NetHood',\n",
       " 'New Java',\n",
       " 'NTUSER.DAT',\n",
       " 'ntuser.dat.LOG1',\n",
       " 'ntuser.dat.LOG2',\n",
       " 'NTUSER.DAT{016888bd-6c6f-11de-8d1d-001e0bcde3ec}.TM.blf',\n",
       " 'NTUSER.DAT{016888bd-6c6f-11de-8d1d-001e0bcde3ec}.TMContainer00000000000000000001.regtrans-ms',\n",
       " 'NTUSER.DAT{016888bd-6c6f-11de-8d1d-001e0bcde3ec}.TMContainer00000000000000000002.regtrans-ms',\n",
       " 'ntuser.ini',\n",
       " 'objects',\n",
       " 'Online batch-2 repat.ipynb',\n",
       " 'Online session.ipynb',\n",
       " 'Online-Session',\n",
       " 'Online-session1',\n",
       " 'ourPyLitExample.py',\n",
       " 'ourPyLit_Example.py',\n",
       " 'patrern.ipynb',\n",
       " 'Pictures',\n",
       " 'PrintHood',\n",
       " 'project',\n",
       " 'projects',\n",
       " 'Pycharm',\n",
       " 'pycharm1',\n",
       " 'PycharmProjects',\n",
       " 'Python database connection .ipynb',\n",
       " 'Recent',\n",
       " 'refs',\n",
       " 'Saved Games',\n",
       " 'Searches',\n",
       " 'SendTo',\n",
       " 'Start Menu',\n",
       " 't1.txt',\n",
       " 't2.txt',\n",
       " 'Telusko.ipynb',\n",
       " 'Templates',\n",
       " 'TerminalCommands',\n",
       " 'testfile',\n",
       " 'text.txt',\n",
       " 'unittestof_Twonumbers.py',\n",
       " 'untitled',\n",
       " 'Untitled Folder',\n",
       " 'Untitled Folder 1',\n",
       " 'Untitled.ipynb',\n",
       " 'Untitled1.ipynb',\n",
       " 'Untitled10.ipynb',\n",
       " 'Untitled11.ipynb',\n",
       " 'Untitled12.ipynb',\n",
       " 'Untitled13.ipynb',\n",
       " 'Untitled14.ipynb',\n",
       " 'Untitled15.ipynb',\n",
       " 'Untitled16.ipynb',\n",
       " 'Untitled17.ipynb',\n",
       " 'Untitled18.ipynb',\n",
       " 'Untitled2.ipynb',\n",
       " 'Untitled21.ipynb',\n",
       " 'Untitled22.ipynb',\n",
       " 'Untitled23.ipynb',\n",
       " 'Untitled3.ipynb',\n",
       " 'Untitled4.ipynb',\n",
       " 'Untitled5.ipynb',\n",
       " 'Untitled6.ipynb',\n",
       " 'Untitled7.ipynb',\n",
       " 'Untitled8.ipynb',\n",
       " 'Untitled9.ipynb',\n",
       " 'Videos',\n",
       " '__pycache__']"
      ]
     },
     "execution_count": 20,
     "metadata": {},
     "output_type": "execute_result"
    }
   ],
   "source": [
    "os.listdir()"
   ]
  },
  {
   "cell_type": "code",
   "execution_count": null,
   "metadata": {},
   "outputs": [],
   "source": []
  }
 ],
 "metadata": {
  "kernelspec": {
   "display_name": "Python 3",
   "language": "python",
   "name": "python3"
  },
  "language_info": {
   "codemirror_mode": {
    "name": "ipython",
    "version": 3
   },
   "file_extension": ".py",
   "mimetype": "text/x-python",
   "name": "python",
   "nbconvert_exporter": "python",
   "pygments_lexer": "ipython3",
   "version": "3.7.3"
  }
 },
 "nbformat": 4,
 "nbformat_minor": 2
}
